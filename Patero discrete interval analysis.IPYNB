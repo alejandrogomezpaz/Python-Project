{
 "cells": [
  {
   "cell_type": "code",
   "execution_count": 2,
   "id": "f3796ccc",
   "metadata": {},
   "outputs": [
    {
     "name": "stderr",
     "output_type": "stream",
     "text": [
      "/opt/anaconda3/envs/py_env/lib/python3.13/site-packages/tqdm/auto.py:21: TqdmWarning: IProgress not found. Please update jupyter and ipywidgets. See https://ipywidgets.readthedocs.io/en/stable/user_install.html\n",
      "  from .autonotebook import tqdm as notebook_tqdm\n"
     ]
    }
   ],
   "source": [
    "import pandas as pd #imports python libraries\n",
    "import matplotlib.pyplot as plt\n",
    "import ast\n",
    "from datasets import load_dataset\n",
    "import seaborn as sns\n",
    "import matplotlib.ticker as mticker #formating module\n",
    "\n",
    "ds = load_dataset(\"lukebarousse/data_jobs\") #imports data\n",
    "df = ds['train'].to_pandas() #imports data inot python"
   ]
  },
  {
   "cell_type": "code",
   "execution_count": 31,
   "id": "f421255b",
   "metadata": {},
   "outputs": [
    {
     "name": "stdout",
     "output_type": "stream",
     "text": [
      "0\n",
      "10000\n",
      "20000\n",
      "30000\n",
      "40000\n",
      "50000\n",
      "60000\n",
      "70000\n",
      "80000\n",
      "90000\n",
      "100000\n",
      "110000\n",
      "120000\n",
      "130000\n",
      "140000\n",
      "150000\n"
     ]
    },
    {
     "data": {
      "text/plain": [
       "count    python\n",
       "dtype: object"
      ]
     },
     "execution_count": 31,
     "metadata": {},
     "output_type": "execute_result"
    }
   ],
   "source": [
    "for i in range(0, 160_000, 10_000):\n",
    "    print(i)\n",
    "df_count.idxmax()"
   ]
  },
  {
   "cell_type": "code",
   "execution_count": 49,
   "id": "4072e497",
   "metadata": {},
   "outputs": [
    {
     "data": {
      "text/html": [
       "<div>\n",
       "<style scoped>\n",
       "    .dataframe tbody tr th:only-of-type {\n",
       "        vertical-align: middle;\n",
       "    }\n",
       "\n",
       "    .dataframe tbody tr th {\n",
       "        vertical-align: top;\n",
       "    }\n",
       "\n",
       "    .dataframe thead th {\n",
       "        text-align: right;\n",
       "    }\n",
       "</style>\n",
       "<table border=\"1\" class=\"dataframe\">\n",
       "  <thead>\n",
       "    <tr style=\"text-align: right;\">\n",
       "      <th></th>\n",
       "      <th>count</th>\n",
       "      <th>salary_year_avg</th>\n",
       "    </tr>\n",
       "    <tr>\n",
       "      <th>job_skills</th>\n",
       "      <th></th>\n",
       "      <th></th>\n",
       "    </tr>\n",
       "  </thead>\n",
       "  <tbody>\n",
       "    <tr>\n",
       "      <th>python</th>\n",
       "      <td>42379</td>\n",
       "      <td>131867.0</td>\n",
       "    </tr>\n",
       "    <tr>\n",
       "      <th>sql</th>\n",
       "      <td>30034</td>\n",
       "      <td>134500.0</td>\n",
       "    </tr>\n",
       "    <tr>\n",
       "      <th>r</th>\n",
       "      <td>26022</td>\n",
       "      <td>126000.0</td>\n",
       "    </tr>\n",
       "    <tr>\n",
       "      <th>sas</th>\n",
       "      <td>14340</td>\n",
       "      <td>120000.0</td>\n",
       "    </tr>\n",
       "    <tr>\n",
       "      <th>tableau</th>\n",
       "      <td>13859</td>\n",
       "      <td>125000.0</td>\n",
       "    </tr>\n",
       "    <tr>\n",
       "      <th>...</th>\n",
       "      <td>...</td>\n",
       "      <td>...</td>\n",
       "    </tr>\n",
       "    <tr>\n",
       "      <th>groovy</th>\n",
       "      <td>8</td>\n",
       "      <td>135000.0</td>\n",
       "    </tr>\n",
       "    <tr>\n",
       "      <th>erlang</th>\n",
       "      <td>7</td>\n",
       "      <td>113500.0</td>\n",
       "    </tr>\n",
       "    <tr>\n",
       "      <th>svelte</th>\n",
       "      <td>5</td>\n",
       "      <td>99150.0</td>\n",
       "    </tr>\n",
       "    <tr>\n",
       "      <th>qt</th>\n",
       "      <td>4</td>\n",
       "      <td>110000.0</td>\n",
       "    </tr>\n",
       "    <tr>\n",
       "      <th>objective-c</th>\n",
       "      <td>3</td>\n",
       "      <td>164500.0</td>\n",
       "    </tr>\n",
       "  </tbody>\n",
       "</table>\n",
       "<p>181 rows × 2 columns</p>\n",
       "</div>"
      ],
      "text/plain": [
       "             count  salary_year_avg\n",
       "job_skills                         \n",
       "python       42379         131867.0\n",
       "sql          30034         134500.0\n",
       "r            26022         126000.0\n",
       "sas          14340         120000.0\n",
       "tableau      13859         125000.0\n",
       "...            ...              ...\n",
       "groovy           8         135000.0\n",
       "erlang           7         113500.0\n",
       "svelte           5          99150.0\n",
       "qt               4         110000.0\n",
       "objective-c      3         164500.0\n",
       "\n",
       "[181 rows x 2 columns]"
      ]
     },
     "execution_count": 49,
     "metadata": {},
     "output_type": "execute_result"
    }
   ],
   "source": [
    "df[\"job_skills\"]= df[\"job_skills\"].apply(lambda x: ast.literal_eval(x) if isinstance(x, str) else x) # cleans job skills\n",
    "\n",
    "df_ds = df[(df['job_country'] == \"United States\") & (df[\"job_title_short\"] == \"Data Scientist\")] # filters for specific job and country\n",
    "\n",
    "df_ds_exploded = df_ds.explode(\"job_skills\") # creates a row for each skill in a job posting\n",
    "\n",
    "skill_count = df_ds_exploded[\"job_skills\"].value_counts() # counts job postings by skill\n",
    "\n",
    "df_count = pd.DataFrame(skill_count) #converts to dataframe\n",
    "\n",
    "skill_pay  = df_ds_exploded.groupby(\"job_skills\")['salary_year_avg'].median().sort_values(ascending=False) #calculates median salary per skill\n",
    "\n",
    "df_pay = pd.DataFrame(skill_pay).dropna() # converts to data frame and deletes NaN rows\n",
    "\n",
    "df_skills = df_count.merge(df_pay, on=\"job_skills\").sort_values(ascending=False, by=\"count\") #merges two dataframes into one\n",
    "\n",
    "df_skills"
   ]
  }
 ],
 "metadata": {
  "kernelspec": {
   "display_name": "py_env",
   "language": "python",
   "name": "python3"
  },
  "language_info": {
   "codemirror_mode": {
    "name": "ipython",
    "version": 3
   },
   "file_extension": ".py",
   "mimetype": "text/x-python",
   "name": "python",
   "nbconvert_exporter": "python",
   "pygments_lexer": "ipython3",
   "version": "3.13.7"
  }
 },
 "nbformat": 4,
 "nbformat_minor": 5
}
